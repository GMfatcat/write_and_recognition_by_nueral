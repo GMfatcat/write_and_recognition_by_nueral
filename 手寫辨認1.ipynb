{
 "cells": [
  {
   "cell_type": "code",
   "execution_count": 1,
   "metadata": {},
   "outputs": [
    {
     "name": "stderr",
     "output_type": "stream",
     "text": [
      "Using TensorFlow backend.\n"
     ]
    }
   ],
   "source": [
    "# 設定所需 library\n",
    "import numpy as np \n",
    "from keras.models import Sequential\n",
    "from keras.layers.core import Dense, Dropout, Activation\n",
    "from keras.layers import Conv2D, MaxPooling2D, Flatten\n",
    "from keras.optimizers import SGD, Adam \n",
    "from keras.utils import np_utils \n",
    "from keras.datasets import mnist\n",
    "import matplotlib.pyplot as plt"
   ]
  },
  {
   "cell_type": "code",
   "execution_count": 2,
   "metadata": {},
   "outputs": [],
   "source": [
    "# categorical_crossentropy\n",
    "def load_data():\n",
    "    (x_train, y_train), (x_test, y_test) = mnist.load_data()\n",
    "    number = 10000\n",
    "    x_train = x_train[0:number]\n",
    "    y_train = y_train[0:number]\n",
    "    x_train = x_train.reshape(number, 28 * 28)\n",
    "    x_test = x_test.reshape(number, 28 * 28)\n",
    "    x_train = x_train.astype('float32')\n",
    "    x_test = x_test.astype('float32')\n",
    "# convert class vectors to binary class matrices \n",
    "    y_train = np_utils.to_categorical(y_train, 10)\n",
    "    y_test = np_utils.to_categorical(y_test, 10)\n",
    "    x_train = x_train\n",
    "    x_test = x_test\n",
    "# x_test=np.random.normal(x_test)\n",
    "    x_train = x_train/255\n",
    "    x_test = x_test/255\n",
    "    return (x_train, y_train), (x_test, y_test)\n",
    "\n",
    "def show_train_history(train_history, train, validation):\n",
    "    plt.plot(train_history.history[train])\n",
    "    plt.plot(train_history.history[validation])\n",
    "    plt.title('Train History')\n",
    "    plt.ylabel(train)\n",
    "    plt.xlabel('Epoch')\n",
    "    plt.legend(['train', 'validation'], loc='upper left')\n",
    "    plt.show()       "
   ]
  },
  {
   "cell_type": "code",
   "execution_count": 7,
   "metadata": {
    "scrolled": true
   },
   "outputs": [
    {
     "name": "stdout",
     "output_type": "stream",
     "text": [
      "Train on 8000 samples, validate on 2000 samples\n",
      "Epoch 1/20\n",
      "8000/8000 [==============================] - 2s 247us/step - loss: 0.9917 - acc: 0.6744 - val_loss: 0.3537 - val_acc: 0.8985\n",
      "Epoch 2/20\n",
      "8000/8000 [==============================] - 2s 212us/step - loss: 0.3822 - acc: 0.8845 - val_loss: 0.2829 - val_acc: 0.9140\n",
      "Epoch 3/20\n",
      "8000/8000 [==============================] - 2s 213us/step - loss: 0.2748 - acc: 0.9166 - val_loss: 0.2453 - val_acc: 0.9225\n",
      "Epoch 4/20\n",
      "8000/8000 [==============================] - 2s 214us/step - loss: 0.2288 - acc: 0.9315 - val_loss: 0.2141 - val_acc: 0.9375\n",
      "Epoch 5/20\n",
      "8000/8000 [==============================] - 2s 212us/step - loss: 0.1876 - acc: 0.9449 - val_loss: 0.2245 - val_acc: 0.9370\n",
      "Epoch 6/20\n",
      "8000/8000 [==============================] - 2s 210us/step - loss: 0.1636 - acc: 0.9520 - val_loss: 0.2137 - val_acc: 0.9410\n",
      "Epoch 7/20\n",
      "8000/8000 [==============================] - 2s 216us/step - loss: 0.1492 - acc: 0.9540 - val_loss: 0.1954 - val_acc: 0.9460\n",
      "Epoch 8/20\n",
      "8000/8000 [==============================] - 2s 212us/step - loss: 0.1282 - acc: 0.9621 - val_loss: 0.1860 - val_acc: 0.9465\n",
      "Epoch 9/20\n",
      "8000/8000 [==============================] - 2s 210us/step - loss: 0.1182 - acc: 0.9640 - val_loss: 0.1889 - val_acc: 0.9490\n",
      "Epoch 10/20\n",
      "8000/8000 [==============================] - 2s 215us/step - loss: 0.1018 - acc: 0.9678 - val_loss: 0.2093 - val_acc: 0.9505\n",
      "Epoch 11/20\n",
      "8000/8000 [==============================] - 2s 217us/step - loss: 0.0974 - acc: 0.9711 - val_loss: 0.1767 - val_acc: 0.9515\n",
      "Epoch 12/20\n",
      "8000/8000 [==============================] - 2s 214us/step - loss: 0.0880 - acc: 0.9740 - val_loss: 0.2101 - val_acc: 0.9490\n",
      "Epoch 13/20\n",
      "8000/8000 [==============================] - 2s 216us/step - loss: 0.0928 - acc: 0.9716 - val_loss: 0.1887 - val_acc: 0.9510\n",
      "Epoch 14/20\n",
      "8000/8000 [==============================] - 2s 221us/step - loss: 0.0753 - acc: 0.9761 - val_loss: 0.2077 - val_acc: 0.9500\n",
      "Epoch 15/20\n",
      "8000/8000 [==============================] - 2s 222us/step - loss: 0.0731 - acc: 0.9775 - val_loss: 0.2070 - val_acc: 0.9480\n",
      "Epoch 16/20\n",
      "8000/8000 [==============================] - 2s 218us/step - loss: 0.0761 - acc: 0.9774 - val_loss: 0.1997 - val_acc: 0.9530\n",
      "Epoch 17/20\n",
      "8000/8000 [==============================] - 2s 214us/step - loss: 0.0691 - acc: 0.9770 - val_loss: 0.1986 - val_acc: 0.9520\n",
      "Epoch 18/20\n",
      "8000/8000 [==============================] - 2s 213us/step - loss: 0.0662 - acc: 0.9780 - val_loss: 0.2159 - val_acc: 0.9530\n",
      "Epoch 19/20\n",
      "8000/8000 [==============================] - 2s 218us/step - loss: 0.0649 - acc: 0.9789 - val_loss: 0.2374 - val_acc: 0.9470\n",
      "Epoch 20/20\n",
      "8000/8000 [==============================] - 2s 210us/step - loss: 0.0636 - acc: 0.9806 - val_loss: 0.2039 - val_acc: 0.9535\n",
      "10000/10000 [==============================] - 1s 96us/step\n",
      "Train Accuracy: 0.9887999892234802\n",
      "10000/10000 [==============================] - 1s 96us/step\n",
      "Test Accuracy: 0.9584000110626221\n"
     ]
    },
    {
     "data": {
      "image/png": "[encoded data removed]",
      "text/plain": [
       "<Figure size 432x288 with 1 Axes>"
      ]
     },
     "metadata": {
      "needs_background": "light"
     },
     "output_type": "display_data"
    },
    {
     "data": {
      "image/png": "[encoded data removed]",
      "text/plain": [
       "<Figure size 432x288 with 1 Axes>"
      ]
     },
     "metadata": {
      "needs_background": "light"
     },
     "output_type": "display_data"
    }
   ],
   "source": [
    "\n",
    "(x_train, y_train), (x_test, y_test) = load_data()\n",
    " # define network structure\n",
    "model = Sequential()\n",
    "model.add(Dense(input_dim=28*28, units=500, activation='relu'))\n",
    "model.add(Dropout(0.5))\n",
    "model.add(Dense(units=500, activation='relu'))\n",
    "model.add(Dropout(0.5))\n",
    "model.add(Dense(units=500, activation='relu'))\n",
    "model.add(Dropout(0.5))\n",
    "model.add(Dense(units=10, activation='softmax'))\n",
    "    \n",
    "model.compile(loss='categorical_crossentropy',optimizer='adam', metrics=['acc'])\n",
    "train_history = model.fit(x_train, y_train, batch_size=100, epochs=20,validation_split=0.2)\n",
    "    \n",
    "result = model.evaluate(x_train, y_train)\n",
    "print('Train Accuracy:', result[1])\n",
    "result = model.evaluate(x_test, y_test)\n",
    "print('Test Accuracy:', result[1])\n",
    "    \n",
    "show_train_history(train_history, 'acc', 'val_acc')\n",
    "show_train_history(train_history, 'loss', 'val_loss')\n"
   ]
  },
  {
   "cell_type": "code",
   "execution_count": 17,
   "metadata": {},
   "outputs": [
    {
     "name": "stdout",
     "output_type": "stream",
     "text": [
      "[[0. 0. 0. 0. 0. 0. 0. 1. 0. 0.]]\n",
      "your photo is :  7\n"
     ]
    }
   ],
   "source": [
    "import PIL\n",
    "from PIL import Image\n",
    "image = PIL.Image.open(r\"C:\\Users\\user\\Desktop\\a.jpg\")   #500*500 的大小\n",
    "image = image.resize((28,28))\n",
    "image.show()\n",
    "img_array=np.asarray(image,dtype=np.float32) \n",
    "def rgb2gray(rgb):\n",
    "\n",
    "    r, g, b = rgb[:,:,0], rgb[:,:,1], rgb[:,:,2]\n",
    "    gray = 0.2989 * r + 0.5870 * g + 0.1140 * b\n",
    "\n",
    "    return gray\n",
    "img_array = rgb2gray(img_array)\n",
    "img_array= np.ravel(img_array)\n",
    "img_array = np.expand_dims(img_array, axis=0)\n",
    "a = model.predict(img_array)\n",
    "arr_aa = np.array(a)\n",
    "print(arr_aa)\n",
    "maxindex  = np.argmax(arr_aa)\n",
    "print('your photo is : ',str(maxindex))\n"
   ]
  },
  {
   "cell_type": "code",
   "execution_count": 22,
   "metadata": {},
   "outputs": [],
   "source": [
    "# overfitting what the fuck\n",
    "# Dropout and use 'relu' and 'adam'\n",
    "from keras.models import load_model\n",
    "# creates a HDF5 file \n",
    "model.save('overfitting_FNN.h5')"
   ]
  },
  {
   "cell_type": "code",
   "execution_count": 23,
   "metadata": {},
   "outputs": [
    {
     "name": "stdout",
     "output_type": "stream",
     "text": [
      "Yeee~\n"
     ]
    }
   ],
   "source": [
    "if load_model('overfitting_FNN.h5'):\n",
    "    print('Yeee~')"
   ]
  },
  {
   "cell_type": "code",
   "execution_count": null,
   "metadata": {},
   "outputs": [],
   "source": []
  }
 ],
 "metadata": {
  "kernelspec": {
   "display_name": "Python 3",
   "language": "python",
   "name": "python3"
  },
  "language_info": {
   "codemirror_mode": {
    "name": "ipython",
    "version": 3
   },
   "file_extension": ".py",
   "mimetype": "text/x-python",
   "name": "python",
   "nbconvert_exporter": "python",
   "pygments_lexer": "ipython3",
   "version": "3.7.4"
  }
 },
 "nbformat": 4,
 "nbformat_minor": 2
}
